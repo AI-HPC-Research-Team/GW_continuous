{
 "cells": [
  {
   "cell_type": "code",
   "execution_count": null,
   "metadata": {},
   "outputs": [],
   "source": [
    "# Copyright 2020 LMNT, Inc. All Rights Reserved.\n",
    "#\n",
    "# Licensed under the Apache License, Version 2.0 (the \"License\");\n",
    "# you may not use this file except in compliance with the License.\n",
    "# You may obtain a copy of the License at\n",
    "#\n",
    "#     http://www.apache.org/licenses/LICENSE-2.0\n",
    "#\n",
    "# Unless required by applicable law or agreed to in writing, software\n",
    "# distributed under the License is distributed on an \"AS IS\" BASIS,\n",
    "# WITHOUT WARRANTIES OR CONDITIONS OF ANY KIND, either express or implied.\n",
    "# See the License for the specific language governing permissions and\n",
    "# limitations under the License.\n",
    "# ==============================================================================\n",
    "\n",
    "import numpy as np\n",
    "import os\n",
    "import torch\n",
    "import librosa\n",
    "import torchaudio\n",
    "import random\n",
    "from argparse import ArgumentParser\n",
    "import pdb\n",
    "\n",
    "from torch.utils.tensorboard import SummaryWriter\n",
    "from params import AttrDict, params as base_params\n",
    "from model import DiffWave\n",
    "\n",
    "from os import path\n",
    "from glob import glob\n",
    "from tqdm import tqdm\n",
    "\n",
    "random.seed(23)\n",
    "\n",
    "models = {}\n",
    "\n",
    "\n",
    "def load_model(model_dir=None, args=None, params=None, device=torch.device('cuda')):\n",
    "  # Lazy load model.\n",
    "  if not model_dir in models:\n",
    "    if os.path.exists(f'{model_dir}/weights.pt'):\n",
    "      checkpoint = torch.load(f'{model_dir}/weights.pt')\n",
    "    else:\n",
    "      checkpoint = torch.load(model_dir)\n",
    "    model = DiffWave(args, AttrDict(base_params)).to(device)\n",
    "    model.load_state_dict(checkpoint['model'])\n",
    "    model.eval()\n",
    "    models[model_dir] = model\n",
    "  model = models[model_dir]\n",
    "  model.params.override(params)\n",
    "      \n",
    "  return model\n",
    "      \n",
    "\n"
   ]
  },
  {
   "cell_type": "code",
   "execution_count": null,
   "metadata": {},
   "outputs": [],
   "source": []
  }
 ],
 "metadata": {
  "kernelspec": {
   "display_name": "Python 3",
   "language": "python",
   "name": "python3"
  },
  "language_info": {
   "codemirror_mode": {
    "name": "ipython",
    "version": 3
   },
   "file_extension": ".py",
   "mimetype": "text/x-python",
   "name": "python",
   "nbconvert_exporter": "python",
   "pygments_lexer": "ipython3",
   "version": "3.6.8"
  }
 },
 "nbformat": 4,
 "nbformat_minor": 4
}
